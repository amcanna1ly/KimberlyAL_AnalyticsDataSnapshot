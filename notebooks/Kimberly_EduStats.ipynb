{
  "cells": [
    {
      "cell_type": "markdown",
      "metadata": {},
      "source": "# Mortimer Jordan HS \u2014 Education Snapshot (ALSDE 2024)\n\nThis notebook builds outcome-focused charts for Mortimer Jordan High School from **ALSDE Supporting Data (2024)**:\n- Graduation Rate, College & Career Readiness (CCR), Academic Growth, Chronic Absenteeism (from **Accountability**)\n- Educator experience (from **Educator Credentials/Experienced**)\n\n**Filters used in code**  \nSystem = *Jefferson County* (037), School = *Mortimer Jordan High School* (0610), Group slices = *All*.\n\n**Guardrail**  \nIf you load a statewide-only export (SystemCode=000/SchoolCode=0000), the notebook will alert you to re-export.\n\nLast run: Aug 21, 2025.\n"
    },
    {
      "cell_type": "code",
      "execution_count": null,
      "metadata": {},
      "outputs": [],
      "source": "# Bootstrap: folders and paths (safe to re-run)\nfrom pathlib import Path\nimport shutil, pandas as pd, matplotlib.pyplot as plt\n\nROOT = Path.cwd().resolve()\nDATA_RAW = ROOT / \"data\" / \"raw\"\nDATA_PROCESSED = ROOT / \"data\" / \"processed\"\nCHARTS = ROOT / \"charts\"\nOUTPUTS = ROOT / \"outputs\"\n\nfor p in [DATA_RAW, DATA_PROCESSED, CHARTS, OUTPUTS]:\n    p.mkdir(parents=True, exist_ok=True)\n\n# Helper to stamp chart footer\ndef add_footer(ax, text):\n    ax.figure.text(0.01, 0.01, text, ha=\"left\", va=\"bottom\", fontsize=9, alpha=0.8)\n\nplt.rcParams[\"figure.figsize\"] = (12, 6)"
    },
    {
      "cell_type": "code",
      "execution_count": null,
      "metadata": {},
      "outputs": [],
      "source": "\n# Load ALSDE CSVs from data/raw; prefer explicit filenames, otherwise glob patterns\nimport pandas as pd\n\ndef find_one(patterns):\n    for pat in patterns:\n        hits = sorted(DATA_RAW.glob(pat))\n        if hits:\n            hits.sort(key=lambda p: p.stat().st_mtime, reverse=True)\n            return hits[0]\n    raise FileNotFoundError(f\"No file found in {DATA_RAW} for patterns: {patterns}\")\n\nACC_PATH  = find_one([\"*Accountability*.csv\", \"*accountability*.csv\"])\n# CCR file optional; not required since Accountability contains Grad/CCR\ntry:\n    CCR_PATH = find_one([\"*CCR*Grad*.csv\", \"*CCR*Rate*.csv\", \"*CCR*.csv\"])\nexcept FileNotFoundError:\n    CCR_PATH = None\n# Educator Experience / Credentials\nEXP_PATH  = find_one([\"*Educator*Credential*.csv\", \"*Experienced*.csv\", \"*Educator*.csv\"])\n\nprint(\"Using:\")\nprint(\" ACC:\", ACC_PATH.name)\nprint(\" CCR:\", CCR_PATH.name if CCR_PATH else \"(none)\")\nprint(\" EXP:\", EXP_PATH.name)\n\naccountability = pd.read_csv(ACC_PATH)\neducator       = pd.read_csv(EXP_PATH)\nccr = pd.read_csv(CCR_PATH) if CCR_PATH else None\n"
    },
    {
      "cell_type": "code",
      "execution_count": null,
      "metadata": {},
      "outputs": [],
      "source": "\nimport pandas as pd\nimport numpy as np\n\nDISTRICT_NAME = \"Jefferson County\"\nSCHOOL_NAME   = \"Mortimer Jordan High School\"\nKEY_INDS = [\"Academic Growth\",\"Graduation Rate\",\"College and Career Readiness\",\"Chronic Absenteeism\"]\n\ndef keep_all_groups(df: pd.DataFrame) -> pd.DataFrame:\n    out = df.copy()\n    for col in [\"Grade\",\"Gender\",\"Race\",\"Ethnicity\",\"Sub Population\"]:\n        if col in out.columns:\n            out = out[out[col].astype(str).str.contains(\"All\", case=False, na=False)]\n    return out\n\ndef first_col(df: pd.DataFrame, names):\n    # exact then contains\n    for n in names:\n        for c in df.columns:\n            if c.lower() == n.lower():\n                return c\n    for n in names:\n        for c in df.columns:\n            if n.lower() in c.lower():\n                return c\n    return None\n\ndef assert_not_statewide_only(df, label):\n    sys_vals = set(df[\"System\"].astype(str).str.strip().unique()) if \"System\" in df.columns else set()\n    sch_vals = set(df[\"School\"].astype(str).str.strip().unique()) if \"School\" in df.columns else set()\n    if sys_vals == {\"Alabama State Department of Education\"} and sch_vals == {\"Alabama State Department of Education\"}:\n        raise ValueError(f\"{label} appears to be statewide-only (SystemCode=000, SchoolCode=0000). \"\n                         \"Please export All Systems/Schools or Jefferson County / Mortimer Jordan HS.\")\n\nfor df, label in [(accountability, \"Accountability\"), (educator, \"Educator\")]:\n    assert_not_statewide_only(df, label)\n\nacc_all = keep_all_groups(accountability)\nacc_mj  = acc_all[(acc_all[\"System\"] == DISTRICT_NAME) & (acc_all[\"School\"] == SCHOOL_NAME)].copy()\n\nif acc_mj.empty:\n    raise ValueError(\"No Mortimer Jordan rows found in Accountability after filtering. \"\n                     \"Verify CSVs and group slices (All).\")\n\nacc_kpi = (acc_mj[acc_mj[\"Indicator\"].isin(KEY_INDS)]\n           .groupby(\"Indicator\", as_index=False)[\"Score\"].max()\n           .sort_values(\"Indicator\"))\ndisplay(acc_kpi)\n\n# Educator experience summary\nedu_all = keep_all_groups(educator)\nedu_mj  = edu_all[(edu_all[\"System\"] == DISTRICT_NAME) & (edu_all[\"School\"] == SCHOOL_NAME)].copy()\n\nexp_pct_col = first_col(edu_mj, [\"Experienced Rate\",\"Experienced %\",\"Percent Experienced\"])\nnov_pct_col = first_col(edu_mj, [\"Inexperienced Rate\",\"Novice Rate\",\"Percent Inexperienced\"])\nexp_cnt_col = first_col(edu_mj, [\"Experienced Count\",\"Number Experienced\"])\ntot_cnt_col = first_col(edu_mj, [\"Total Count\",\"Total\"])\n\nrows = []\nif exp_pct_col:\n    rows.append({\"Metric\":\"Experienced Educators (%)\", \"Value\": pd.to_numeric(edu_mj[exp_pct_col], errors=\"coerce\").max()})\nelif exp_cnt_col and tot_cnt_col:\n    num = pd.to_numeric(edu_mj[exp_cnt_col], errors=\"coerce\").sum()\n    den = pd.to_numeric(edu_mj[tot_cnt_col], errors=\"coerce\").sum()\n    rows.append({\"Metric\":\"Experienced Educators (%)\", \"Value\": (num/den*100) if den else np.nan})\n\nif nov_pct_col:\n    rows.append({\"Metric\":\"Inexperienced/Novice (%)\", \"Value\": pd.to_numeric(edu_mj[nov_pct_col], errors=\"coerce\").max()})\n\nexp_summary = pd.DataFrame(rows)\ndisplay(exp_summary)\n"
    },
    {
      "cell_type": "code",
      "execution_count": null,
      "metadata": {},
      "outputs": [],
      "source": "\n# Plot: Graduation & CCR\nimport matplotlib.pyplot as plt\n\ngrad_ccr = acc_kpi[acc_kpi[\"Indicator\"].isin([\"Graduation Rate\",\"College and Career Readiness\"])]\nplt.figure(figsize=(10,5))\nplt.bar(grad_ccr[\"Indicator\"], grad_ccr[\"Score\"])\nplt.title(\"Mortimer Jordan HS \u2014 Graduation & CCR (ALSDE 2024)\")\nplt.ylabel(\"Percent\")\nplt.tight_layout()\nadd_footer(plt.gca(), \"Source: ALSDE Supporting Data \u2022 2024 \u2022 All groups (Jefferson County / MJHS)\")\nout1 = CHARTS / \"mjhs_grad_ccr_2024.png\"\nplt.savefig(out1, dpi=200); plt.show()\nprint(\"Saved chart:\", out1)\n\n# Plot: Educator experience\nif not exp_summary.empty:\n    plt.figure(figsize=(10,5))\n    plt.bar(exp_summary[\"Metric\"], exp_summary[\"Value\"])\n    plt.title(\"Mortimer Jordan HS \u2014 Educator Experience (ALSDE 2024)\")\n    plt.ylabel(\"Percent\")\n    plt.tight_layout()\n    add_footer(plt.gca(), \"Source: ALSDE Supporting Data \u2022 2024 \u2022 All groups (Jefferson County / MJHS)\")\n    out2 = CHARTS / \"mjhs_educator_experience_2024.png\"\n    plt.savefig(out2, dpi=200); plt.show()\n    print(\"Saved chart:\", out2)\n\n# Save derived CSVs\n(DATA_PROCESSED / \"mjhs_acc_kpi.csv\").write_text(acc_kpi.to_csv(index=False))\n(DATA_PROCESSED / \"mjhs_educator_experience.csv\").write_text(exp_summary.to_csv(index=False))\nprint(\"Saved processed CSVs in\", DATA_PROCESSED)\n"
    }
  ],
  "metadata": {
    "kernelspec": {
      "display_name": "Python 3",
      "language": "python",
      "name": "python3"
    },
    "language_info": {
      "name": "python",
      "pygments_lexer": "ipython3"
    }
  },
  "nbformat": 4,
  "nbformat_minor": 5
}