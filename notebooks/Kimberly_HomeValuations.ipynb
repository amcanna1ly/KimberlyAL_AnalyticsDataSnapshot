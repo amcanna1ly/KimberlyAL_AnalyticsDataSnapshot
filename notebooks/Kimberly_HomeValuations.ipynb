{
  "cells": [
    {
      "cell_type": "markdown",
      "metadata": {},
      "source": "# Kimberly Home Valuations \u2014 ZIP-level (Zillow ZHVI)\n\nThis notebook builds **ZIP-level** home value trends (ZHVI) for:\n- 35091 (Kimberly), 35116 (Morris), 35180 (Warrior).\n\n**Notes**\n- ZIP areas are not city boundaries; used here for local market trend context.\n- Source: Zillow Research (ZHVI). Last run: Aug 21, 2025.\n"
    },
    {
      "cell_type": "code",
      "execution_count": null,
      "metadata": {},
      "outputs": [],
      "source": "# Bootstrap: folders and paths (safe to re-run)\nfrom pathlib import Path\nimport shutil, pandas as pd, matplotlib.pyplot as plt\n\nROOT = Path.cwd().resolve()\nDATA_RAW = ROOT / \"data\" / \"raw\"\nDATA_PROCESSED = ROOT / \"data\" / \"processed\"\nCHARTS = ROOT / \"charts\"\nOUTPUTS = ROOT / \"outputs\"\n\nfor p in [DATA_RAW, DATA_PROCESSED, CHARTS, OUTPUTS]:\n    p.mkdir(parents=True, exist_ok=True)\n\n# Helper to stamp chart footer\ndef add_footer(ax, text):\n    ax.figure.text(0.01, 0.01, text, ha=\"left\", va=\"bottom\", fontsize=9, alpha=0.8)\n\nplt.rcParams[\"figure.figsize\"] = (12, 6)"
    },
    {
      "cell_type": "code",
      "execution_count": null,
      "metadata": {},
      "outputs": [],
      "source": "\n# Auto-find ZHVI CSVs in data/raw (prefer known filenames; fall back to any *zhvi*)\nfrom pathlib import Path\nimport pandas as pd\n\ndef find_one(patterns):\n    for pat in patterns:\n        hits = sorted(DATA_RAW.glob(pat))\n        if hits:\n            # choose newest by modified time\n            hits.sort(key=lambda p: p.stat().st_mtime, reverse=True)\n            return hits[0]\n    raise FileNotFoundError(f\"No ZHVI file found in {DATA_RAW}. Expected patterns: {patterns}\")\n\nZILLOW_VALUES_CSV = find_one([\n    \"*Zip_zhvi_uc_sfrcondo_tier_0.33_0.67_sm_sa_month*.csv\",\n    \"*zhvi*zip*month*.csv\",\n    \"*zhvi*.csv\",\n])\n\nprint(\"Using ZHVI file:\", ZILLOW_VALUES_CSV.name)\nvalues_wide = pd.read_csv(ZILLOW_VALUES_CSV)\n"
    },
    {
      "cell_type": "code",
      "execution_count": null,
      "metadata": {},
      "outputs": [],
      "source": "\nimport pandas as pd\n\nZIPS_TO_PLOT = [35091, 35116, 35180]\nSTART_YEAR, END_YEAR = 2000, 2025\n\ndef reshape_zip_values(df: pd.DataFrame, zip_code: int, start_year=START_YEAR, end_year=END_YEAR) -> pd.DataFrame:\n    z = df[df[\"RegionName\"] == zip_code].copy()\n    if z.empty:\n        raise ValueError(f\"ZIP {zip_code} not found in ZHVI file.\")\n    meta_cols = [\"RegionName\", \"City\", \"CountyName\", \"Metro\", \"StateName\", \"State\"]\n    drop_cols = [\"RegionID\", \"SizeRank\", \"RegionType\"]\n    date_cols = [c for c in z.columns if c not in meta_cols + drop_cols]\n    long_df = z.melt(id_vars=meta_cols, value_vars=date_cols, var_name=\"Date\", value_name=\"MedianHomeValue\")\n    long_df[\"Date\"] = pd.to_datetime(long_df[\"Date\"], errors=\"coerce\")\n    long_df = long_df.dropna(subset=[\"Date\", \"MedianHomeValue\"])\n    long_df = long_df[(long_df[\"Date\"].dt.year >= start_year) & (long_df[\"Date\"].dt.year <= end_year)]\n    city = z[\"City\"].iloc[0] if pd.notna(z[\"City\"].iloc[0]) else f\"ZIP {zip_code}\"\n    long_df[\"SeriesLabel\"] = f\"{city} ({zip_code})\"\n    return long_df[[\"Date\",\"MedianHomeValue\",\"SeriesLabel\",\"RegionName\",\"City\",\"CountyName\",\"Metro\",\"StateName\",\"State\"]].sort_values(\"Date\")\n\ndef build_values_timeseries(df: pd.DataFrame, zips: list[int]) -> pd.DataFrame:\n    frames = [reshape_zip_values(df, z) for z in zips]\n    return pd.concat(frames, ignore_index=True)\n\ndef latest_snapshot(values_tidy: pd.DataFrame) -> pd.DataFrame:\n    idx = values_tidy.groupby(\"SeriesLabel\")[\"Date\"].idxmax()\n    snap = values_tidy.loc[idx, [\"SeriesLabel\",\"Date\",\"MedianHomeValue\"]].sort_values(\"SeriesLabel\")\n    snap[\"MedianHomeValue\"] = snap[\"MedianHomeValue\"].round(0).astype(int)\n    return snap.reset_index(drop=True)\n\nvalues_tidy = build_values_timeseries(values_wide, ZIPS_TO_PLOT)\nlatest = latest_snapshot(values_tidy)\ndisplay(latest)\n"
    },
    {
      "cell_type": "code",
      "execution_count": null,
      "metadata": {},
      "outputs": [],
      "source": "\nimport matplotlib.pyplot as plt\n\nplt.figure()\nfor label, grp in values_tidy.groupby(\"SeriesLabel\"):\n    plt.plot(grp[\"Date\"], grp[\"MedianHomeValue\"], linewidth=2, label=label)\n\nplt.title(\"Median Home Value Trend (ZHVI) \u2014 2000\u20132025\")\nplt.xlabel(\"Year\"); plt.ylabel(\"Median Home Value ($)\")\nplt.grid(True, linestyle=\"--\", alpha=0.6); plt.legend(); plt.tight_layout()\n\n# Footer with latest month in data\nlatest_month = values_tidy[\"Date\"].max().strftime(\"%b %Y\")\nadd_footer(plt.gca(), f\"Source: Zillow ZHVI \u2022 {latest_month} \u2022 ZIP-level (35091/35116/35180; ZIP \u2260 city boundary)\")\n\nout_png = CHARTS / \"home_values_35091_35116_35180_2000_2025.png\"\nplt.savefig(out_png, dpi=200); plt.show()\nprint(\"Saved chart:\", out_png)\n\n# Export processed snapshot\nout_csv = DATA_PROCESSED / \"zhvi_latest_snapshot.csv\"\nlatest.to_csv(out_csv, index=False)\nprint(\"Saved:\", out_csv)\n"
    }
  ],
  "metadata": {
    "kernelspec": {
      "display_name": "Python 3",
      "language": "python",
      "name": "python3"
    },
    "language_info": {
      "name": "python",
      "pygments_lexer": "ipython3"
    }
  },
  "nbformat": 4,
  "nbformat_minor": 5
}